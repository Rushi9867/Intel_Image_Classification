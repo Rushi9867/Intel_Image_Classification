{
 "cells": [
  {
   "cell_type": "markdown",
   "metadata": {},
   "source": [
    "## Context\n",
    "This is image data of Natural Scenes around the world.\n",
    "\n",
    "## Content\n",
    "This Data contains around 25k images of size 150x150 distributed under 6 categories.<br>\n",
    "{'buildings' -> 0,<br>\n",
    "'forest' -> 1,<br>\n",
    "'glacier' -> 2,<br>\n",
    "'mountain' -> 3,<br>\n",
    "'sea' -> 4,<br>\n",
    "'street' -> 5 }\n",
    "\n",
    "The Train, Test and Prediction data is separated in each zip files. There are around 14k images in Train, 3k in Test and 7k in Prediction."
   ]
  },
  {
   "cell_type": "markdown",
   "metadata": {},
   "source": [
    "### Import necessary Libraries"
   ]
  },
  {
   "cell_type": "code",
   "execution_count": 1,
   "metadata": {},
   "outputs": [],
   "source": [
    "import numpy as np \n",
    "import pandas as pd \n",
    "import os \n",
    "import torch \n",
    "import torchvision\n",
    "import matplotlib.pyplot as plt \n",
    "import torch.nn as nn \n",
    "import torch.nn.functional as F \n",
    "from torchvision.transforms import ToTensor \n",
    "import torchvision.transforms as tt \n",
    "from torchvision.utils import make_grid \n",
    "from torch.utils.data.dataloader import DataLoader \n",
    "from torchvision.datasets import ImageFolder\n",
    "from torch.utils.data import random_split \n",
    "%matplotlib inline "
   ]
  },
  {
   "cell_type": "code",
   "execution_count": 2,
   "metadata": {},
   "outputs": [
    {
     "name": "stdout",
     "output_type": "stream",
     "text": [
      "2.3.1+cu121\n",
      "0.18.1+cu121\n",
      "12.1\n"
     ]
    }
   ],
   "source": [
    "print(torch.__version__)\n",
    "\n",
    "print(torchvision.__version__)\n",
    "\n",
    "print(torch.version.cuda)"
   ]
  },
  {
   "cell_type": "code",
   "execution_count": 3,
   "metadata": {},
   "outputs": [],
   "source": [
    "train = ImageFolder(\"/config/workspace/Data/seg_train\",transform=tt.Compose([\n",
    "    tt.Resize(64),\n",
    "    tt.RandomCrop(64),\n",
    "    tt.ToTensor(),\n",
    "]))"
   ]
  },
  {
   "cell_type": "code",
   "execution_count": 4,
   "metadata": {},
   "outputs": [
    {
     "data": {
      "text/plain": [
       "['buildings', 'forest', 'glacier', 'mountain', 'sea', 'street']"
      ]
     },
     "execution_count": 4,
     "metadata": {},
     "output_type": "execute_result"
    }
   ],
   "source": [
    "train.classes"
   ]
  },
  {
   "cell_type": "code",
   "execution_count": 5,
   "metadata": {},
   "outputs": [],
   "source": [
    "train_dl = DataLoader(train,64,shuffle=True,num_workers=3,pin_memory=True)"
   ]
  },
  {
   "cell_type": "code",
   "execution_count": 6,
   "metadata": {},
   "outputs": [
    {
     "data": {
      "text/plain": [
       "(tensor([0.4302, 0.4575, 0.4539]), tensor([0.2481, 0.2467, 0.2806]))"
      ]
     },
     "execution_count": 6,
     "metadata": {},
     "output_type": "execute_result"
    }
   ],
   "source": [
    "def get_mean_std(dl):\n",
    "    sum_,sqaured_sum,batches = 0,0,0\n",
    "    for data, _ in dl:\n",
    "        sum_ += torch.mean(data,dim=([0,2,3]))\n",
    "        sqaured_sum += torch.mean(data**2,dim=([0,2,3]))\n",
    "        batches += 1\n",
    "\n",
    "    mean = sum_/batches\n",
    "    std = (sqaured_sum/batches - mean**2)**0.5\n",
    "    return mean,std \n",
    "\n",
    "mean,std = get_mean_std(train_dl)\n",
    "mean,std "
   ]
  },
  {
   "cell_type": "code",
   "execution_count": null,
   "metadata": {},
   "outputs": [],
   "source": []
  },
  {
   "cell_type": "code",
   "execution_count": null,
   "metadata": {},
   "outputs": [],
   "source": []
  }
 ],
 "metadata": {
  "kernelspec": {
   "display_name": "Python 3.11.9 ('tfod')",
   "language": "python",
   "name": "python3"
  },
  "language_info": {
   "codemirror_mode": {
    "name": "ipython",
    "version": 3
   },
   "file_extension": ".py",
   "mimetype": "text/x-python",
   "name": "python",
   "nbconvert_exporter": "python",
   "pygments_lexer": "ipython3",
   "version": "3.11.9"
  },
  "orig_nbformat": 4,
  "vscode": {
   "interpreter": {
    "hash": "9e65137e30125215fec57a6061e853951d6c4f9e6663eb217316da2e2708fb4f"
   }
  }
 },
 "nbformat": 4,
 "nbformat_minor": 2
}
